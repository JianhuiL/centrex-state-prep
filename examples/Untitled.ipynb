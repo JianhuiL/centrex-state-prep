{
 "cells": [
  {
   "cell_type": "code",
   "execution_count": 1,
   "id": "8a3ebf71",
   "metadata": {},
   "outputs": [],
   "source": [
    "import numpy as np\n",
    "import matplotlib.pyplot as plt"
   ]
  },
  {
   "cell_type": "code",
   "execution_count": 2,
   "id": "086ddd1c",
   "metadata": {},
   "outputs": [],
   "source": [
    "def pe(omega, delta, t):\n",
    "    return omega**2/(omega**2+delta**2)*np.sin(0.5* np.sqrt(omega**2+delta**2)*t)**2"
   ]
  },
  {
   "cell_type": "code",
   "execution_count": 16,
   "id": "c06cbcac",
   "metadata": {},
   "outputs": [
    {
     "data": {
      "text/plain": [
       "10000"
      ]
     },
     "execution_count": 16,
     "metadata": {},
     "output_type": "execute_result"
    }
   ],
   "source": [
    "t = 0.025/184*np.sqrt(2)\n",
    "omega = np.pi/t\n",
    "\n",
    "delta = np.linspace(0,3,10000)*omega\n",
    "ranger = len(delta)\n",
    "ranger"
   ]
  },
  {
   "cell_type": "code",
   "execution_count": 41,
   "id": "271fc130",
   "metadata": {},
   "outputs": [
    {
     "data": {
      "text/plain": [
       "2602.1529547664945"
      ]
     },
     "execution_count": 41,
     "metadata": {},
     "output_type": "execute_result"
    }
   ],
   "source": [
    "omega/(2*np.pi)"
   ]
  },
  {
   "cell_type": "code",
   "execution_count": 17,
   "id": "fbdb0012",
   "metadata": {},
   "outputs": [
    {
     "data": {
      "text/plain": [
       "[<matplotlib.lines.Line2D at 0x1aade4fafb0>]"
      ]
     },
     "execution_count": 17,
     "metadata": {},
     "output_type": "execute_result"
    },
    {
     "data": {
      "image/png": "[encoded data removed]",
      "text/plain": [
       "<Figure size 432x288 with 1 Axes>"
      ]
     },
     "metadata": {
      "needs_background": "light"
     },
     "output_type": "display_data"
    }
   ],
   "source": [
    "prob = []\n",
    "ranger = len(delta)\n",
    "for i in range(ranger):\n",
    "    prob.append(pe(omega,delta[i],t))\n",
    "    \n",
    "plt.plot(delta/(2*np.pi*2.6e3), prob)"
   ]
  },
  {
   "cell_type": "code",
   "execution_count": 38,
   "id": "a70ff72f",
   "metadata": {},
   "outputs": [
    {
     "name": "stdout",
     "output_type": "stream",
     "text": [
      "probability of making unwanted transition at 4.5G for Tl spin = 0.14649346718405684\n",
      "δ/Ω = 1.2297509238026916\n"
     ]
    }
   ],
   "source": [
    "d = 3.2e3*2*np.pi\n",
    "print('probability of making unwanted transition at 4.5G for Tl spin =',pe(omega,d,t))\n",
    "print('δ/Ω =',d/omega)"
   ]
  },
  {
   "cell_type": "code",
   "execution_count": 45,
   "id": "481bb987",
   "metadata": {},
   "outputs": [
    {
     "name": "stdout",
     "output_type": "stream",
     "text": [
      "probability of making unwanted transition at 4.5G for Tl spin = 3.4132815066863335e-06\n",
      "δ/Ω = 1.729337236597535\n"
     ]
    }
   ],
   "source": [
    "d = 4.5e3*2*np.pi\n",
    "print('probability of making unwanted transition at 4.5G for Tl spin =',pe(omega,d,t))\n",
    "print('δ/Ω =',d/omega)"
   ]
  },
  {
   "cell_type": "code",
   "execution_count": 42,
   "id": "35a93641",
   "metadata": {},
   "outputs": [
    {
     "data": {
      "text/plain": [
       "Text(0, 0.5, 'probability of unwanted excitation')"
      ]
     },
     "execution_count": 42,
     "metadata": {},
     "output_type": "execute_result"
    },
    {
     "data": {
      "image/png": "[encoded data removed]",
      "text/plain": [
       "<Figure size 432x288 with 1 Axes>"
      ]
     },
     "metadata": {
      "needs_background": "light"
     },
     "output_type": "display_data"
    }
   ],
   "source": [
    "t = 0.025/184*np.sqrt(2)\n",
    "omega = np.pi/t\n",
    "\n",
    "delta = np.linspace(0,20,10000)*omega\n",
    "ranger = len(delta)\n",
    "\n",
    "prob = []\n",
    "ranger = len(delta)\n",
    "for i in range(ranger):\n",
    "    prob.append(pe(omega,delta[i],t))\n",
    "    \n",
    "plt.plot(delta/(2*np.pi)/1000, prob)\n",
    "plt.xlabel('Δ [kHz]')\n",
    "plt.ylabel('probability of unwanted excitation')"
   ]
  },
  {
   "cell_type": "code",
   "execution_count": null,
   "id": "870251b9",
   "metadata": {},
   "outputs": [],
   "source": []
  }
 ],
 "metadata": {
  "kernelspec": {
   "display_name": "Python 3 (ipykernel)",
   "language": "python",
   "name": "python3"
  },
  "language_info": {
   "codemirror_mode": {
    "name": "ipython",
    "version": 3
   },
   "file_extension": ".py",
   "mimetype": "text/x-python",
   "name": "python",
   "nbconvert_exporter": "python",
   "pygments_lexer": "ipython3",
   "version": "3.10.0"
  }
 },
 "nbformat": 4,
 "nbformat_minor": 5
}
